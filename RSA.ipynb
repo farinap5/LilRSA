{
 "cells": [
  {
   "cell_type": "markdown",
   "metadata": {},
   "source": [
    "# RSA Cryptografy\n",
    "\n",
    "When it comes to asymmetric cryptography, RSA (Rivest-Shamir-Adleman) is the default example to explain concepts regarding the topic. The algorithm is one of the first invented (1978) to do so work, rely on a pair of keys, and yhe reversible property of the key to encrypt with one key and roll back to the original message using the other key.\n",
    "\n",
    "In RSA standard cryptography, two key types are employed, those that will be presented during this document: The RSA public key and the RSA private key and together the private and public key form the key pair needed in the process of encryption and decryption of a message.\n",
    "\n",
    "The basic principle behind RSA is the multiplication of two factors $p$ and $q$, applying operations on these numbers it is practical to find three very large positive numbers $e$, $d$ and $n$. With these three numbers, it is possible to apply modular exponentiation to reach a strongly cyphered message. To discover the message that originated the cypher text the $p$ and $q$ would be needed, it is possible of factorizing $n$, but $n$ is a large integer, so the process is computationally inviable turning it into a $NP-Complete$ problem."
   ]
  },
  {
   "cell_type": "code",
   "execution_count": 1,
   "metadata": {},
   "outputs": [],
   "source": [
    "import base64\n",
    "import math\n",
    "import textwrap\n",
    "import lilRSA"
   ]
  },
  {
   "cell_type": "markdown",
   "metadata": {},
   "source": [
    "As mentioned $p$ is the first factor, it is a positive integer. $p$ must be a prime number.\n",
    "\n",
    "$q$ is the second factor, it is a positive integer. $q$ also must be a prime number.\n",
    "\n",
    "The function `GenPQ` will set the values for $p$ and $q$, for a normal use they must be random very large numbers for two purposes: So it can work with larger messages, and it is going to be harder to find them again factorizing $n$."
   ]
  },
  {
   "cell_type": "code",
   "execution_count": 2,
   "metadata": {},
   "outputs": [],
   "source": [
    "def GenPQ(d:int=None)->int:\n",
    "    p,q = 0,0\n",
    "    if d == 8:\n",
    "        p = 71113279\n",
    "        q = 98327129\n",
    "    elif d == 16:\n",
    "        p = 4056555933657341\n",
    "        q = 6724511755459679\n",
    "    elif d == 32:\n",
    "        p = 79307298401562156961148089405447\n",
    "        q = 30824043223426789498907784588361\n",
    "    elif d == 64:\n",
    "        p = 7102262139724624880661914991820000585426491086958693095823804547\n",
    "        q = 9624173466341420108973789000052858499246519294416603422050306371\n",
    "    else:\n",
    "        p = 7102262139724624880661914991820000585426491086958693095823804547\n",
    "        q = 9624173466341420108973789000052858499246519294416603422050306371\n",
    "    return p,q"
   ]
  },
  {
   "cell_type": "markdown",
   "metadata": {},
   "source": [
    "The function `GenPair` generates the key pair. It will use other functions to set the value of the variables needed during the process of performing manipulations with based on RSA standards.\n",
    "\n",
    "As shown before, we start fining the values for the two factors $p$ and $q$."
   ]
  },
  {
   "cell_type": "code",
   "execution_count": 3,
   "metadata": {},
   "outputs": [],
   "source": [
    "def GenPair(d:int=64,p:int=None,q:int=None)->int:\n",
    "    e,n,phi = 0,0,0\n",
    "    if p == None and q == None:\n",
    "        p,q = GenPQ(d)\n",
    "    e = SetE()\n",
    "    n = SetN(p,q)\n",
    "    phi = SetPhi(p,q)\n",
    "    d = SetD(phi)\n",
    "    return p,q,e,n,phi,d"
   ]
  },
  {
   "cell_type": "markdown",
   "metadata": {},
   "source": [
    "Now it is composed the public key, it consists in two components:\n",
    "\n",
    "- $e$ is the RSA public expoent, a positive integer. As the number is publicly known there is no problem to be reused multiple times, so $e$ usually has the value $65537$. This public exponent should be a prime number and large, not large as the others, but is large. $65537=2^{16}+1$ and the binary representation is $0b1000000000000001$ there are lots of $0$ turning it easy to work with from the perspective of prossessing cicles.\n",
    "\n",
    "$$\n",
    "e = 65537\n",
    "$$"
   ]
  },
  {
   "cell_type": "code",
   "execution_count": 4,
   "metadata": {},
   "outputs": [],
   "source": [
    "def SetE(e:int=65537)->int:return e"
   ]
  },
  {
   "cell_type": "markdown",
   "metadata": {},
   "source": [
    "- $n$ the RSA modulus, a positive integer result from the multiplication of $p$ and $q$.\n",
    "\n",
    "$$\n",
    "n = p \\cdot q\n",
    "$$"
   ]
  },
  {
   "cell_type": "code",
   "execution_count": 5,
   "metadata": {},
   "outputs": [],
   "source": [
    "def SetN(p:int, q:int)->int:\n",
    "    return p * q"
   ]
  },
  {
   "cell_type": "markdown",
   "metadata": {},
   "source": [
    "$\\phi(x)$ represents how many numbers are relatively prime with $x$ so the $gcd$ (greatest common divisor) between $x$ and $y=\\{1\\leq y < x\\}$ must be $1$ for $y$ to be relatively prime with $x$. \n",
    "\n",
    "$n$ results from the multiplication of the factors $p$ and $q$, $\\phi(n) = \\phi(p) \\cdot \\phi(q)$.  From the fact that $p$ and $q$ are primes, we can suppose that exists $q-1$ numbers relatively prime with $q$, likewise $p$ where $\\phi(p)=p-1$:\n",
    "\n",
    "$$\n",
    "\\phi(n) = (p-1)\\cdot (q-1)\n",
    "$$"
   ]
  },
  {
   "cell_type": "code",
   "execution_count": 6,
   "metadata": {},
   "outputs": [],
   "source": [
    "def SetPhi(p:int, q:int)->int:\n",
    "    return (p - 1) * (q - 1)"
   ]
  },
  {
   "cell_type": "markdown",
   "metadata": {},
   "source": [
    "The function `FindInversePow` will find the **modular multiplicative inverse** of the $e$ ($e^{-1}$) with respect to the modulus $\\phi(n)$, known as private key.\n",
    "\n",
    "The modular multiplicative inverse of $e$ is a big integer (because the modular is big integer) $d$ such that the product $e \\cdot d$ is congruent to $1$ inside the class $\\phi(n)$. Using the notation, this congruence is written as:\n",
    "$$\n",
    "e\\cdot d\\equiv1\\ (mod\\ \\phi(n))\n",
    "$$\n",
    "To find out the inverse of any number when this number is large as those used in cryptography function is not an easy task even for a processor which would use many clock cycles to find the inverse, so to improve this performance theorems are implemented such as extended Euclidean algorithm, Euler's theorem, and so long.\n",
    "\n",
    "In python we have a build in function called `pow(e,-1,phi(n))` that raises a number to a power exponent and find the modular correspondent to it in class `\\phi(n)`.\n",
    "\n",
    "LilRSA has two ways to find the inverse, by performing a bruteforce to find a $x$ number like $x=(e**n)\\%phi$ but it gets very slow as the expoent gets bigger, so by default `pow` is used.\n",
    "\n",
    "Note that the private key is based on the public key. We need the public key and from it the private  key is calculated. But to discover the private key when we do not know the $\\phi(n)$ it ends up being necessary to have the factors. We can calculate from the modulus, but RSA relies on this problem.\n",
    "\n",
    "I have the goal to create a function that relys on Euclidean algorithm to find the $e^{-1}$."
   ]
  },
  {
   "cell_type": "code",
   "execution_count": 7,
   "metadata": {},
   "outputs": [],
   "source": [
    "def SetD(phi:int,e:int=65537)->int:\n",
    "    return pow(e, -1, phi)"
   ]
  },
  {
   "cell_type": "markdown",
   "metadata": {},
   "source": [
    "Having the key pair in hands we can write down both keys following the notation:\n",
    "\n",
    "- Public key: $(n,e)$\n",
    "- Private key: $(n,d)$"
   ]
  },
  {
   "cell_type": "code",
   "execution_count": 8,
   "metadata": {},
   "outputs": [
    {
     "name": "stdout",
     "output_type": "stream",
     "text": [
      "Public key: ( 27278358062558503271571127853539 , 65537 )\n",
      "Private key: ( 27278358062558503271571127853539 , 25150598683645832258703790006473 )\n"
     ]
    }
   ],
   "source": [
    "p,q,e,n,phi,d = GenPair(d=16)\n",
    "print(\"Public key: (\",n,\",\",e,\")\")\n",
    "print(\"Private key: (\",n,\",\",d,\")\")"
   ]
  },
  {
   "cell_type": "markdown",
   "metadata": {},
   "source": [
    "For a plain text message $m$ the encryptation function is:\n",
    "$$\n",
    "c = m^{e}\\ mod_n\n",
    "$$\n",
    "\n",
    "An exponential operation is applied so we can get back the number in class $n$ it is congruent to, the data needs to be converted from string to integer before calculating the cyphered.\n",
    "\n",
    "$m$ is a integer between $0$ and $n-1$. If $m$ is not between the specified range, the cyphered message will not be reversed to is original format, $m$ will be bigger than the modulus width and remainder data are lost.\n",
    "\n",
    "Adding the data obtained from the previous cell:\n",
    "$$\n",
    "c = 796...^{65537}\\ mod_{272...}\n",
    "$$\n",
    "\n",
    "$c$ is ciphertext representative, an integer between $0$ and $n - 1$."
   ]
  },
  {
   "cell_type": "code",
   "execution_count": 9,
   "metadata": {},
   "outputs": [
    {
     "name": "stdout",
     "output_type": "stream",
     "text": [
      "Cyphered message: 2545276894363010442995951365102\n"
     ]
    }
   ],
   "source": [
    "def Encry(m:str,n:int,e:int=65537)->int:\n",
    "    i = int.from_bytes(m.encode(), byteorder='big')\n",
    "    return pow(i,e,n)\n",
    "\n",
    "m = \"Hello!\"\n",
    "c = Encry(m,n)\n",
    "print(\"Cyphered message:\",c)"
   ]
  },
  {
   "cell_type": "markdown",
   "metadata": {},
   "source": [
    "The process of rolling back the cyphered data to the original message is done through the same process but replacing $e$ that represents the public key, to $d$ which represents the private key\n",
    "\n",
    "Remind that $e \\cdot d \\equiv 1\\ mod_{n}$, it brings the reversible property of modular exponentiation. Raising the cyphered text (that must be represented in its integer format) to the power of $d$ and applying the module $n$ must results on the same integer number that represents the initial message.\n",
    "\n",
    "$$\n",
    "c = m^{d}\\ mod_n\n",
    "$$\n",
    "\n",
    "Replacing variables to the numbers calculated from previus cells:\n",
    "\n",
    "$$\n",
    "c = 245...^{251...}\\ mod_{272...}\n",
    "$$"
   ]
  },
  {
   "cell_type": "code",
   "execution_count": 10,
   "metadata": {},
   "outputs": [
    {
     "name": "stdout",
     "output_type": "stream",
     "text": [
      "Decrypted message: Hello!\n"
     ]
    }
   ],
   "source": [
    "def Decry(c:int,d:int,n:int)->str:\n",
    "    c = pow(c,d,n)\n",
    "    leng = math.ceil(c.bit_length() / 8)\n",
    "    return c.to_bytes(leng, byteorder='big').decode()\n",
    "\n",
    "m = Decry(c,d,n)\n",
    "print(\"Decrypted message:\",m)"
   ]
  }
 ],
 "metadata": {
  "interpreter": {
   "hash": "916dbcbb3f70747c44a77c7bcd40155683ae19c65e1c03b4aa3499c5328201f1"
  },
  "kernelspec": {
   "display_name": "Python 3.9.2 64-bit",
   "language": "python",
   "name": "python3"
  },
  "language_info": {
   "codemirror_mode": {
    "name": "ipython",
    "version": 3
   },
   "file_extension": ".py",
   "mimetype": "text/x-python",
   "name": "python",
   "nbconvert_exporter": "python",
   "pygments_lexer": "ipython3",
   "version": "3.9.2"
  },
  "orig_nbformat": 4
 },
 "nbformat": 4,
 "nbformat_minor": 2
}
